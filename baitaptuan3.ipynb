{
 "cells": [
  {
   "cell_type": "markdown",
   "id": "61a73fe7",
   "metadata": {},
   "source": [
    "W3A2"
   ]
  },
  {
   "cell_type": "code",
   "execution_count": 16,
   "id": "a8c4b8fa",
   "metadata": {},
   "outputs": [
    {
     "name": "stdout",
     "output_type": "stream",
     "text": [
      "gía trị sau của a là: 2\n",
      "gía trị sau của b là: 1\n"
     ]
    }
   ],
   "source": [
    "a,b =1,2 \n",
    "a = a^b\n",
    "b = a^b\n",
    "a = a^b\n",
    "print(f\"gía trị sau của a là: {a}\")\n",
    "print(f\"gía trị sau của b là: {b}\")\n"
   ]
  },
  {
   "cell_type": "markdown",
   "id": "2a948abd",
   "metadata": {},
   "source": [
    "W3A3 "
   ]
  },
  {
   "cell_type": "code",
   "execution_count": 3,
   "id": "d5908a0f",
   "metadata": {},
   "outputs": [
    {
     "name": "stdout",
     "output_type": "stream",
     "text": [
      "Yes\n"
     ]
    }
   ],
   "source": [
    "n = int(input())\n",
    "if n>0 and (n&(n-1))==0:\n",
    "    print(\"Yes\")\n",
    "else: print(\"No\")"
   ]
  },
  {
   "cell_type": "markdown",
   "id": "b197a37f",
   "metadata": {},
   "source": [
    "W3A4"
   ]
  },
  {
   "cell_type": "code",
   "execution_count": 9,
   "id": "03222f2e",
   "metadata": {},
   "outputs": [
    {
     "name": "stdout",
     "output_type": "stream",
     "text": [
      "1\n"
     ]
    }
   ],
   "source": [
    "from math import*\n",
    "m,n = map(int,input().split())\n",
    "print(floor(m/n))"
   ]
  },
  {
   "cell_type": "markdown",
   "id": "c2b5694b",
   "metadata": {},
   "source": [
    "W3A5"
   ]
  },
  {
   "cell_type": "code",
   "execution_count": 5,
   "id": "d562dfca",
   "metadata": {},
   "outputs": [
    {
     "name": "stdout",
     "output_type": "stream",
     "text": [
      "1\n"
     ]
    }
   ],
   "source": [
    "from math import*\n",
    "m,n = map(int,input().split())\n",
    "print(ceil(m/n))"
   ]
  },
  {
   "cell_type": "markdown",
   "id": "a874e187",
   "metadata": {},
   "source": [
    "W3A6"
   ]
  },
  {
   "cell_type": "code",
   "execution_count": 17,
   "id": "f1b056fe",
   "metadata": {},
   "outputs": [
    {
     "name": "stdout",
     "output_type": "stream",
     "text": [
      "Odd\n"
     ]
    }
   ],
   "source": [
    "n = int(input())\n",
    "if n%2==0: \n",
    "    print(\"Even\")\n",
    "else: \n",
    "    print(\"Odd\")\n"
   ]
  },
  {
   "cell_type": "markdown",
   "id": "be3e2f36",
   "metadata": {},
   "source": [
    "W3A7"
   ]
  },
  {
   "cell_type": "code",
   "execution_count": 6,
   "id": "adc5ddd0",
   "metadata": {},
   "outputs": [
    {
     "name": "stdout",
     "output_type": "stream",
     "text": [
      "Yes\n"
     ]
    }
   ],
   "source": [
    "a, b = map(float,input().split())\n",
    "if a < 0 and b< 0: \n",
    "    print(\"Yes\")\n",
    "else: \n",
    "    print(\"No\")\n"
   ]
  },
  {
   "cell_type": "markdown",
   "id": "2d1a2970",
   "metadata": {},
   "source": [
    "W3A8"
   ]
  },
  {
   "cell_type": "code",
   "execution_count": 12,
   "id": "5d0d609c",
   "metadata": {},
   "outputs": [
    {
     "name": "stdout",
     "output_type": "stream",
     "text": [
      "True\n"
     ]
    }
   ],
   "source": [
    "a = input()\n",
    "b = input()\n",
    "if len(a) > len(b): \n",
    "    print(\"True\")\n",
    "else: \n",
    "    print(\"False\")"
   ]
  },
  {
   "cell_type": "markdown",
   "id": "2406269d",
   "metadata": {},
   "source": [
    "W3A9 "
   ]
  },
  {
   "cell_type": "code",
   "execution_count": 8,
   "id": "a9812dde",
   "metadata": {},
   "outputs": [
    {
     "name": "stdout",
     "output_type": "stream",
     "text": [
      "Đây là tam giác\n"
     ]
    }
   ],
   "source": [
    "a, b, c = map(int, input().split())\n",
    "\n",
    "if a + b > c and a + c > b and b + c > a:\n",
    "    print(\"Đây là tam giác\")\n",
    "else:\n",
    "    print(\"Đây không là tam giác\")\n"
   ]
  },
  {
   "cell_type": "markdown",
   "id": "a68ba0ea",
   "metadata": {},
   "source": [
    "W3A10"
   ]
  },
  {
   "cell_type": "code",
   "execution_count": 11,
   "id": "4de7479e",
   "metadata": {},
   "outputs": [
    {
     "name": "stdout",
     "output_type": "stream",
     "text": [
      "7\n"
     ]
    }
   ],
   "source": [
    "a,b,c,d =map(int,input().split())\n",
    "print(max(a,b,c,d))"
   ]
  },
  {
   "cell_type": "markdown",
   "id": "1ff3fde7",
   "metadata": {},
   "source": [
    "W3A11"
   ]
  },
  {
   "cell_type": "code",
   "execution_count": 9,
   "id": "12afea93",
   "metadata": {},
   "outputs": [
    {
     "name": "stdout",
     "output_type": "stream",
     "text": [
      "Đây là tam giác đều\n"
     ]
    }
   ],
   "source": [
    "a, b, c = map(int, input().split())\n",
    "if a + b > c and a + c > b and b + c > a:\n",
    "    if a == b == c:\n",
    "        print(\"Đây là tam giác đều\")\n",
    "    elif a == b or a == c or b == c:\n",
    "        print(\"Đây là tam giác cân\")\n",
    "    else:\n",
    "        print(\"Đây là tam giác thường\")\n",
    "else:\n",
    "    print(\"Không là tam giác\")"
   ]
  },
  {
   "cell_type": "markdown",
   "id": "2ca8df33",
   "metadata": {},
   "source": [
    "W3A12"
   ]
  },
  {
   "cell_type": "code",
   "execution_count": 10,
   "id": "13c45ba6",
   "metadata": {},
   "outputs": [
    {
     "name": "stdout",
     "output_type": "stream",
     "text": [
      "Day la nam nhuan\n"
     ]
    }
   ],
   "source": [
    "a = int(input())\n",
    "if a % 100 == 0 or ( a % 4 == 0 and a % 100 != 0):\n",
    "    print(\"Day la nam nhuan\")\n",
    "else: \n",
    "    print(\"Khong la nam nhuan\")"
   ]
  },
  {
   "cell_type": "markdown",
   "id": "90a54c4e",
   "metadata": {},
   "source": [
    "W3A14"
   ]
  },
  {
   "cell_type": "code",
   "execution_count": 11,
   "id": "d1406437",
   "metadata": {},
   "outputs": [
    {
     "name": "stdout",
     "output_type": "stream",
     "text": [
      "Phương trình vô số No\n"
     ]
    }
   ],
   "source": [
    "a, b = map(float, input().split())\n",
    "if a !=0:\n",
    "    print(f\"No của pt là:\", '% .2f' % -b/a)\n",
    "elif a == 0 and b!=0:\n",
    "    print(\"Phương trình vô nghiệm\")\n",
    "else:\n",
    "    print(\"Phương trình vô số No\")\n"
   ]
  },
  {
   "cell_type": "markdown",
   "id": "ec748ed1",
   "metadata": {},
   "source": [
    "W3A15"
   ]
  },
  {
   "cell_type": "code",
   "execution_count": 12,
   "id": "77d14ed7",
   "metadata": {},
   "outputs": [
    {
     "name": "stdout",
     "output_type": "stream",
     "text": [
      "Giỏi\n"
     ]
    }
   ],
   "source": [
    "n = float(input())\n",
    "if n>=8.0: \n",
    "    print('Giỏi')\n",
    "elif n>= 6.5: \n",
    "    print('Khá')\n",
    "elif n>= 5.0:\n",
    "    print('Trung bình')\n",
    "else:\n",
    "    print('Yếu')\n"
   ]
  },
  {
   "cell_type": "markdown",
   "id": "c45e4141",
   "metadata": {},
   "source": [
    "W3A16"
   ]
  },
  {
   "cell_type": "code",
   "execution_count": null,
   "id": "c6ab9600",
   "metadata": {},
   "outputs": [
    {
     "name": "stdout",
     "output_type": "stream",
     "text": [
      "Số làm tròn lên của n: -3\n",
      "Số làm tròn xuống của n: -2\n",
      "Số làm tròn đúng của n: -3\n"
     ]
    }
   ],
   "source": [
    "n = float(input())\n",
    "if n>=0:\n",
    "    fl = int(n)+1\n",
    "    print(f\"Số làm tròn lên của n: {fl}\")\n",
    "    ce = int(n)\n",
    "    print(f\"Số làm tròn xuống của n: {ce}\")\n",
    "    if (n-int(n))>0.5:\n",
    "        print(f\"Số làm tròn đúng của n: {int(n)+1}\")\n",
    "    else: \n",
    "        print(f\"Số làm tròn đúng của n: {int(n)}\")\n",
    "else:\n",
    "    fl = -(abs(int(n))+1)\n",
    "    print(f\"Số làm tròn lên của n: {fl}\")\n",
    "    ce =-abs(int(n))\n",
    "    print(f\"Số làm tròn xuống của n: {ce}\")\n",
    "    if (abs(n)-abs(int(n)))>0.5:\n",
    "        print(f\"Số làm tròn đúng của n: {-(abs(int(n))+1)}\")\n",
    "    else: \n",
    "        print(f\"Số làm tròn đúng của n: {-abs(int(n))}\")\n"
   ]
  },
  {
   "cell_type": "markdown",
   "id": "5288562f",
   "metadata": {},
   "source": [
    "W3A17"
   ]
  },
  {
   "cell_type": "code",
   "execution_count": 2,
   "id": "c1c6871f",
   "metadata": {},
   "outputs": [
    {
     "name": "stdout",
     "output_type": "stream",
     "text": [
      "Là cấp sô nhân vs cb nguyên\n"
     ]
    }
   ],
   "source": [
    "a,b,c,d = map(int,input().split())\n",
    "if b%a == 0 and a!=0: \n",
    "    if b*b//a == c and c*b//a == d : \n",
    "        print(\"Là cấp sô nhân vs cb nguyên\")\n",
    "    else: \n",
    "        print(\"Không là cấp số nhân\")\n",
    "else: \n",
    "       print(\"Không thỏa mãn yc đề bài\")"
   ]
  }
 ],
 "metadata": {
  "kernelspec": {
   "display_name": "Python 3",
   "language": "python",
   "name": "python3"
  },
  "language_info": {
   "codemirror_mode": {
    "name": "ipython",
    "version": 3
   },
   "file_extension": ".py",
   "mimetype": "text/x-python",
   "name": "python",
   "nbconvert_exporter": "python",
   "pygments_lexer": "ipython3",
   "version": "3.13.7"
  }
 },
 "nbformat": 4,
 "nbformat_minor": 5
}
